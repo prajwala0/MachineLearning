{
 "cells": [
  {
   "cell_type": "markdown",
   "id": "98d5da1e",
   "metadata": {},
   "source": [
    "#### 1.What is Data ?"
   ]
  },
  {
   "cell_type": "markdown",
   "id": "bb505052",
   "metadata": {},
   "source": [
    "Data is a collection of information gathered by observations, measurements, research or analysis. They may consist of facts, numbers, names, figures or even description of things. Data is organized in the form of graphs, charts or tables."
   ]
  },
  {
   "cell_type": "markdown",
   "id": "ae226dc2",
   "metadata": {},
   "source": [
    "#### 2.What is Data Science & Brief  in your own way ?"
   ]
  },
  {
   "cell_type": "markdown",
   "id": "897126d5",
   "metadata": {},
   "source": [
    "Data science is the study of data to extract meaningful insights for business. It is a multidisciplinary approach that combines principles and practices from the fields of mathematics, statistics, artificial intelligence, and computer engineering to analyze large amounts of data. This analysis helps data scientists to ask and answer questions like what happened, why it happened, what will happen, and what can be done with the results"
   ]
  },
  {
   "cell_type": "markdown",
   "id": "92a2dcd5",
   "metadata": {},
   "source": [
    "#### 3.What is Data Preprocessing ?"
   ]
  },
  {
   "cell_type": "markdown",
   "id": "a65d675a",
   "metadata": {},
   "source": [
    "Data processing is the method of collecting raw data and translating it into usable information. It is usually performed in a step-by-step process by a team of data scientists and data engineers in an organization. The raw data is collected, filtered, sorted, processed, analyzed, stored, and then presented in a readable format."
   ]
  },
  {
   "cell_type": "markdown",
   "id": "041505af",
   "metadata": {},
   "source": [
    "#### 4.What Libraries Utilized to work with Data preprocessing?"
   ]
  },
  {
   "cell_type": "markdown",
   "id": "a8ad9912",
   "metadata": {},
   "source": [
    "Some of the popular libraries used for data preprocessing in Python include NumPy, Pandas, Scikit-learn, Seaborn and Matplotlib."
   ]
  },
  {
   "cell_type": "markdown",
   "id": "f136d619",
   "metadata": {},
   "source": [
    "#### 5.What are roles of Data Scientist ?"
   ]
  },
  {
   "cell_type": "markdown",
   "id": "84df591c",
   "metadata": {},
   "source": [
    "A data scientist can use a range of different techniques, tools, and technologies as part of the data science process. Based on the problem, they pick the best combinations for faster and more accurate results.\n",
    "\n",
    "A data scientist’s role and day-to-day work vary depending on the size and requirements of the organization. While they typically follow the data science process, the details may vary. In larger data science teams, a data scientist may work with other analysts, engineers, machine learning experts, and statisticians to ensure the data science process is followed end-to-end and business goals are achieved. "
   ]
  },
  {
   "cell_type": "markdown",
   "id": "95561dc4",
   "metadata": {},
   "source": [
    "#### 6.What is Machine Learning ?"
   ]
  },
  {
   "cell_type": "markdown",
   "id": "03659b28",
   "metadata": {},
   "source": [
    "Machine learning is a branch of artificial intelligence (AI) and computer science which focuses on the use of data and algorithms to imitate the way that humans learn, gradually improving its accuracy."
   ]
  },
  {
   "cell_type": "markdown",
   "id": "47d5fc41",
   "metadata": {},
   "source": [
    "#### 7.Why Machine Learning ?"
   ]
  },
  {
   "cell_type": "markdown",
   "id": "8fca53a9",
   "metadata": {},
   "source": [
    "Data is the lifeblood of all business. Data-driven decisions increasingly make the difference between keeping up with competition or falling further behind. Machine learning can be the key to unlocking the value of corporate and customer data and enacting decisions that keep a company ahead of the competition."
   ]
  },
  {
   "cell_type": "markdown",
   "id": "5bbe5b75",
   "metadata": {},
   "source": [
    "#### 8.Purpose of Machine Learning ?"
   ]
  },
  {
   "cell_type": "markdown",
   "id": "0bc1c257",
   "metadata": {},
   "source": [
    "Traditional Machine Learning combines data with statistical tools to predict an output that can be used to make actionable insights."
   ]
  },
  {
   "cell_type": "markdown",
   "id": "cea98934",
   "metadata": {},
   "source": [
    "#### 9.Machine Learning Current Examples ?"
   ]
  },
  {
   "cell_type": "markdown",
   "id": "a9bfe7f5",
   "metadata": {},
   "source": [
    "Many of today's leading companies, such as Facebook, Google, and Uber, make machine learning a central part of their operations.\n",
    "\n",
    "Machine learning is used in many different applications, from image and speech recognition to natural language processing, recommendation systems, fraud detection, portfolio optimization, automated task, and so on. Machine learning models are also used to power autonomous vehicles, drones, and robots, making them more intelligent and adaptable to changing environments."
   ]
  },
  {
   "cell_type": "markdown",
   "id": "7399b462",
   "metadata": {},
   "source": [
    "#### 10.How many Types of Machine Learning models"
   ]
  },
  {
   "cell_type": "markdown",
   "id": "9e772995",
   "metadata": {},
   "source": [
    "Machine learning models fall into three primary categories.\n",
    "\n",
    "    1.Supervised machine learning\n",
    "    2.Unsupervised machine learning\n",
    "    3.Reinforcement machine learning"
   ]
  },
  {
   "cell_type": "markdown",
   "id": "ea98f2f7",
   "metadata": {},
   "source": [
    "#### 11.On what based Machine learning model selected Brief ? "
   ]
  },
  {
   "cell_type": "markdown",
   "id": "2deba4ce",
   "metadata": {},
   "source": [
    "Model selection is the process of deciding which algorithm and model architecture is best suited for a particular task or dataset\n",
    "The choice of model is influenced by many variables, including dataset, task, model type, etc. \n",
    "\n",
    "Generally, you need to consider two factors:\n",
    "    \n",
    "    Reason for choosing a model\n",
    "    The model's performance\n",
    "    \n",
    "    \n",
    "So let's explore the reason behind selecting a model. You can choose models based on their data and task:\n",
    "\n",
    "#### Based on type of data \n",
    "\n",
    "    Images and videos \n",
    "    If your application mainly focuses on images and videos, for example, image recognition. The Convolutional Neural Network model works better with images and videos when compared to other models. \n",
    "\n",
    "    Text data or speech data \n",
    "    Similarly, recurrent neural networks (RNN) are employed if your problem includes speech or text data.\n",
    "\n",
    "    Numerical data \n",
    "    You may use Support Vector Machine (SVM), logistic regression, and decision trees if your data is numerical.\n",
    "\n",
    "#### Based on the task\n",
    "\n",
    "    Classification Tasks -  SVM, logistic regression, and decision trees.\n",
    "    Regression tasks- Linear regression, Random Forest, Polynomial regression, etc.\n",
    "    Clustering tasks- K means clustering, hierarchical clustering.\n",
    "    Therefore, depending on the type of data you have and the task you do, you may use a variety of models."
   ]
  },
  {
   "cell_type": "markdown",
   "id": "62232d27",
   "metadata": {},
   "source": [
    "#### 12.Describe Difference between ( Supervised / Unsupervised / Reinforcement Learning) ?"
   ]
  },
  {
   "cell_type": "markdown",
   "id": "47f03617",
   "metadata": {},
   "source": [
    "#### Supervised learning :\n",
    "\n",
    "In supervised learning, the AI model is trained based on the given input and its expected output, i.e., the label of the input. The model creates a mapping equation based on the inputs and outputs and predicts the label of the inputs in the future based on that mapping equation.\n",
    "\n",
    "#### Unsupervised learning :\n",
    "\n",
    "In unsupervised learning, the AI model is trained only on the inputs, without their labels. The model classifies the input data into classes that have similar features. The label of the input is then predicted in the future based on the similarity of its features with one of the classes.\n",
    "\n",
    "#### Reinforcement learning:\n",
    "\n",
    "In reinforcement learning, the AI model tries to take the best possible action in a given situation to maximize the total profit. The model learns by getting feedback on its past outcomes."
   ]
  },
  {
   "cell_type": "markdown",
   "id": "28d48942",
   "metadata": {},
   "source": [
    "#### 13.Difference between Machine Learning and Deep Learning ?"
   ]
  },
  {
   "cell_type": "markdown",
   "id": "1d59c24e",
   "metadata": {},
   "source": [
    "Machine learning and deep learning are both types of AI. In short, machine learning is AI that can automatically adapt with minimal human interference. Deep learning is a subset of machine learning that uses artificial neural networks to mimic the learning process of the human brain."
   ]
  },
  {
   "cell_type": "markdown",
   "id": "88abafe5",
   "metadata": {},
   "source": [
    "#### 14.What is Scikit Learn ?"
   ]
  },
  {
   "cell_type": "markdown",
   "id": "eece3618",
   "metadata": {},
   "source": [
    "Scikit-learn (Sklearn) is the most useful and robust library for machine learning in Python. It provides a selection of efficient tools for machine learning and statistical modeling including classification, regression, clustering and dimensionality reduction via a consistence interface in Python."
   ]
  },
  {
   "cell_type": "markdown",
   "id": "bdef7c1b",
   "metadata": {},
   "source": [
    "#### 15.List out Data Preprocessing Steps ?"
   ]
  },
  {
   "cell_type": "markdown",
   "id": "dcb08a5a",
   "metadata": {},
   "source": [
    "Some common steps in data preprocessing include:\n",
    "    \n",
    "    Data Cleaning\n",
    "    Data Integration\n",
    "    Data Transformation\n",
    "    Data Reduction\n",
    "    Data Discretization\n",
    "    Data Normalization"
   ]
  },
  {
   "cell_type": "markdown",
   "id": "b5958352",
   "metadata": {},
   "source": [
    "#### 16.In dataset : ( Decribe Independent Variable / Dependent Variable)"
   ]
  },
  {
   "cell_type": "markdown",
   "id": "a85713c6",
   "metadata": {},
   "source": [
    "A dependent variable is a variable whose changes and its outcome depend on another variable. On almost all occasions, the variable the dependent variable depends on is an independent variable.\n",
    "\n",
    "Dependent variables are also called the response or outcome variables because they represent the outcome of the values you're measuring. That is, what you record after manipulating the independent variables.\n",
    "\n",
    "An independent variable is a variable whose outcome or changes do not depend on another variable. It is the exact opposite of the dependent variable, at least according to what the name implies.\n",
    "\n",
    "Independent variables are also called predictor variables because you can use them to predict the outcome of a dependent variable. That is, when you manipulate independent variables, they can give you the outcome of a dependent variable."
   ]
  },
  {
   "cell_type": "markdown",
   "id": "e95e5203",
   "metadata": {},
   "source": [
    "#### 17.What the default ration for Train / test sets ?"
   ]
  },
  {
   "cell_type": "markdown",
   "id": "dc53cf73",
   "metadata": {},
   "source": [
    "There is no fixed rule while selecting the size of the training set and testing set. \n",
    "Its suggested in several machine learning research articles to generally opt for Training dataset to be 70% and Testing dataset to be 15%"
   ]
  },
  {
   "cell_type": "markdown",
   "id": "e8b619e5",
   "metadata": {},
   "source": [
    "#### 18.Brief Steps Involved in Machine Learning Model Approach ?"
   ]
  },
  {
   "cell_type": "markdown",
   "id": "2b875749",
   "metadata": {},
   "source": [
    "The task of imparting intelligence to machines can be broken down into 6 major steps :\n",
    "    \n",
    "    1. Data Collection and integration\n",
    "    2. Exploratory Data Analysis and Visualisation\n",
    "    3. Feature Selection and Engineering\n",
    "    4.  Model Training\n",
    "    5. Model Evaluation\n",
    "    6. Prediction"
   ]
  },
  {
   "cell_type": "markdown",
   "id": "d1eb9d7f",
   "metadata": {},
   "source": [
    "#### 19.What is Over_fit ?"
   ]
  },
  {
   "cell_type": "markdown",
   "id": "250a4178",
   "metadata": {},
   "source": [
    "Overfitting is an undesirable machine learning behavior that occurs when the machine learning model gives accurate predictions for training data but not for new data."
   ]
  },
  {
   "cell_type": "markdown",
   "id": "d29f69a7",
   "metadata": {},
   "source": [
    "#### 20.What is Under_fit ?"
   ]
  },
  {
   "cell_type": "markdown",
   "id": "c0fae5d5",
   "metadata": {},
   "source": [
    "Underfitting is another type of error that occurs when the model cannot determine a meaningful relationship between the input and output data."
   ]
  },
  {
   "cell_type": "markdown",
   "id": "ba8c629b",
   "metadata": {},
   "source": [
    "Underfit models experience high bias—they give inaccurate results for both the training data and test set. On the other hand, overfit models experience high variance—they give accurate results for the training set but not for the test set. More model training results in less bias but variance can increase. Data scientists aim to find the sweet spot between underfitting and overfitting when fitting a model."
   ]
  },
  {
   "cell_type": "markdown",
   "id": "0e28adf2",
   "metadata": {},
   "source": [
    "-----------------------------"
   ]
  }
 ],
 "metadata": {
  "kernelspec": {
   "display_name": "Python 3",
   "language": "python",
   "name": "python3"
  },
  "language_info": {
   "codemirror_mode": {
    "name": "ipython",
    "version": 3
   },
   "file_extension": ".py",
   "mimetype": "text/x-python",
   "name": "python",
   "nbconvert_exporter": "python",
   "pygments_lexer": "ipython3",
   "version": "3.8.8"
  }
 },
 "nbformat": 4,
 "nbformat_minor": 5
}
