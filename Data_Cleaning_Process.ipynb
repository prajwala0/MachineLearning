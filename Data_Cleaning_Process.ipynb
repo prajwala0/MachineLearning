{
 "cells": [
  {
   "cell_type": "markdown",
   "id": "225e7cec",
   "metadata": {},
   "source": [
    "#### 1. Identify your source\n",
    "    ●Determine the source of your data, whether it's an Excel spreadsheet, a database, or another format.\n",
    "    ●For example, let's say you have a sales report in an Excel file.\n",
    "\n",
    "#### 2. Remove Duplicate Entries\n",
    "    ●Ensure data accuracy by eliminating repeated entries.\n",
    "    ●Example: In sales data, removing duplicate transactions prevents overcounting revenue.\n",
    "\n",
    "#### 3. Handle Missing Value\n",
    "    ●Enhance analysis reliability by addressing missing data.\n",
    "    ●Example: Replace missing email addresses in a customer database with \"N/A\" or other sources.\n",
    "\n",
    "#### 4. Standardize Formats\n",
    "    ●Improve data consistency by standardizing data.\n",
    "    ●Example: Ensure uniform date representation, like \"MM/DD/YYYY,\" for easy analysis.\n",
    "\n",
    "#### 5. Validate & verify\n",
    "    ●Confirm data accuracy by checking for outliers & inconsistencies.\n",
    "    ●Example: Scrutinize monthly sales reports for unrealistically high or low figures."
   ]
  },
  {
   "cell_type": "markdown",
   "id": "200e4f5e",
   "metadata": {},
   "source": [
    "-------------------------"
   ]
  }
 ],
 "metadata": {
  "kernelspec": {
   "display_name": "Python 3",
   "language": "python",
   "name": "python3"
  },
  "language_info": {
   "codemirror_mode": {
    "name": "ipython",
    "version": 3
   },
   "file_extension": ".py",
   "mimetype": "text/x-python",
   "name": "python",
   "nbconvert_exporter": "python",
   "pygments_lexer": "ipython3",
   "version": "3.8.8"
  }
 },
 "nbformat": 4,
 "nbformat_minor": 5
}
